{
 "cells": [
  {
   "cell_type": "markdown",
   "id": "a41f3622",
   "metadata": {},
   "source": [
    "# Ejercicios de probabilidad"
   ]
  },
  {
   "cell_type": "markdown",
   "id": "a6bdbd89",
   "metadata": {},
   "source": [
    "## Ejercicio 1 \n",
    "\n",
    "Dos dados se lanzan una vez y se observa el total obtenido. Usa una simulación para encontrar la probabilidad estimada de que la puntuación sea mayor a 7 o un número par. Una simulación es una repetición del mismo experimento multiples veces para observar su comportamiento:\n",
    "\n",
    "- Ejecuta el experimento 1000 veces (lanza 2 dados 1000 veces, y suma el número de ambos dados).\n",
    "- Lleva ua cuenta de los números y las veces que la suma fue mayor a 7 o un número par.\n",
    "- Divide el número del paso 2 entre el número de iteraciones(1000)."
   ]
  },
  {
   "cell_type": "code",
   "execution_count": 2,
   "id": "8939d892",
   "metadata": {},
   "outputs": [],
   "source": [
    "import numpy as np"
   ]
  },
  {
   "cell_type": "code",
   "execution_count": null,
   "id": "999e031e",
   "metadata": {},
   "outputs": [
    {
     "data": {
      "text/plain": [
       "np.float64(0.688)"
      ]
     },
     "execution_count": 3,
     "metadata": {},
     "output_type": "execute_result"
    }
   ],
   "source": [
    "# Genera 1000 números aleatorios entre 1 y 6\n",
    "experiments = 1000\n",
    "dado1 = np.random.randint(1, 7, size=experiments)\n",
    "dado2 = np.random.randint(1, 7, size=experiments)\n",
    "\n",
    "# Sumamos los valores de cada dado \n",
    "suma = dado1 + dado2\n",
    "condicion = (suma > 7) | (suma % 2 == 0)\n",
    "\n",
    "# luego sacamos la media de su posibilidades\n",
    "\n",
    "probabilidad = np.mean(condicion) \n",
    "\n",
    "#Resultado\n",
    "\n",
    "probabilidad "
   ]
  },
  {
   "cell_type": "markdown",
   "id": "55732bca",
   "metadata": {},
   "source": [
    "## Ejercicio 2\n",
    "\n",
    "Una caja contiene 10 bolas blancas, 20 bolas rojas y 30 bolas verdes. Si tomamos 5 bolas de la caja reemplazándolas (tomando una bola, anotando el color y luego regresandola a la caja). Queremos saber la probabilidad de:\n",
    "\n",
    "1. Tomar 3 blancas y 2 rojas.\n",
    "2. Toas todas del mismo color.\n",
    "\n",
    "Ejecuta el experimento 1000 veces y calcula las probabilidades que mencionadas."
   ]
  },
  {
   "cell_type": "code",
   "execution_count": null,
   "id": "23244d20",
   "metadata": {},
   "outputs": [],
   "source": [
    "ball_box = {}\n",
    "\n",
    "\n",
    "# Crea la cajas con las bolas\n",
    "for i in range(60):\n",
    "    if i < 10:\n",
    "        ball_box[i] = \"White\"\n",
    "    elif (i > 9) and (i < 30):\n",
    "        ball_box[i] = \"Red\"\n",
    "    else:\n",
    "        ball_box[i] = \"Green\"\n",
    "# Creacion de un array (lista) para que choice pueda almacenar los valores (color de las bolas)\n",
    "        box_array = np.array(list(ball_box.values()))\n"
   ]
  },
  {
   "cell_type": "code",
   "execution_count": null,
   "id": "bee546c9",
   "metadata": {},
   "outputs": [
    {
     "data": {
      "text/plain": [
       "(0.01, 0.033)"
      ]
     },
     "execution_count": 10,
     "metadata": {},
     "output_type": "execute_result"
    }
   ],
   "source": [
    "\n",
    "case1 = 0\n",
    "case2 = 0\n",
    "\n",
    "# Realizar el experimento 1000 veces \n",
    "for _ in range(1000):\n",
    "    selection = np.random.choice(box_array, size=5, replace=True)\n",
    " \n",
    " #Selecionn de bolas \n",
    "    whites = np.sum(selection == \"White\")\n",
    "    reds = np.sum(selection == \"Red\")\n",
    "    greens = np.sum(selection == \"Green\")\n",
    "\n",
    "    if whites == 3 and reds == 2:\n",
    "        case1 += 1\n",
    "\n",
    "    if whites == 5 or reds == 5 or greens == 5:\n",
    "        case2 += 1\n",
    "\n",
    "# Dividir entre 1000 posibilidades \n",
    "\n",
    "prob1 = case1 / 1000\n",
    "prob2 = case2 / 1000\n",
    "\n",
    "prob1, prob2"
   ]
  }
 ],
 "metadata": {
  "kernelspec": {
   "display_name": "Python 3",
   "language": "python",
   "name": "python3"
  },
  "language_info": {
   "codemirror_mode": {
    "name": "ipython",
    "version": 3
   },
   "file_extension": ".py",
   "mimetype": "text/x-python",
   "name": "python",
   "nbconvert_exporter": "python",
   "pygments_lexer": "ipython3",
   "version": "3.11.4"
  }
 },
 "nbformat": 4,
 "nbformat_minor": 5
}
